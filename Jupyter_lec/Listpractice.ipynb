{
 "cells": [
  {
   "cell_type": "code",
   "execution_count": 2,
   "metadata": {},
   "outputs": [
    {
     "name": "stdout",
     "output_type": "stream",
     "text": [
      "23\n"
     ]
    }
   ],
   "source": [
    "gene = 'ATGCCAGTttccggaaGTTCTAA'\n",
    "print(len(gene))"
   ]
  },
  {
   "cell_type": "code",
   "execution_count": 7,
   "metadata": {},
   "outputs": [
    {
     "name": "stdout",
     "output_type": "stream",
     "text": [
      "A\n",
      "0\n",
      " \n",
      "T\n",
      "1\n",
      " \n",
      "G\n",
      "2\n",
      " \n",
      "C\n",
      "3\n",
      " \n",
      "C\n",
      "3\n",
      " \n",
      "A\n",
      "0\n",
      " \n",
      "G\n",
      "2\n",
      " \n",
      "T\n",
      "1\n",
      " \n",
      "t\n",
      "8\n",
      " \n",
      "t\n",
      "8\n",
      " \n",
      "c\n",
      "10\n",
      " \n",
      "c\n",
      "10\n",
      " \n",
      "g\n",
      "12\n",
      " \n",
      "g\n",
      "12\n",
      " \n",
      "a\n",
      "14\n",
      " \n",
      "a\n",
      "14\n",
      " \n",
      "G\n",
      "2\n",
      " \n",
      "T\n",
      "1\n",
      " \n",
      "T\n",
      "1\n",
      " \n",
      "C\n",
      "3\n",
      " \n",
      "T\n",
      "1\n",
      " \n",
      "A\n",
      "0\n",
      " \n",
      "A\n",
      "0\n",
      " \n"
     ]
    }
   ],
   "source": [
    "for letter in gene:\n",
    "    print(letter)\n",
    "    print(gene.index(letter))\n",
    "    print(\" \")"
   ]
  },
  {
   "cell_type": "code",
   "execution_count": 18,
   "metadata": {},
   "outputs": [
    {
     "name": "stdout",
     "output_type": "stream",
     "text": [
      "ATGCCAGT\n"
     ]
    }
   ],
   "source": [
    "#print the first exon (first caps)\n",
    "print(gene[:8])"
   ]
  },
  {
   "cell_type": "code",
   "execution_count": 10,
   "metadata": {},
   "outputs": [
    {
     "name": "stdout",
     "output_type": "stream",
     "text": [
      "ttccggaa\n"
     ]
    }
   ],
   "source": [
    "#print the intron (lowercase)\n",
    "print(gene[8:16])"
   ]
  },
  {
   "cell_type": "code",
   "execution_count": 22,
   "metadata": {},
   "outputs": [
    {
     "name": "stdout",
     "output_type": "stream",
     "text": [
      "GTTCTAA\n",
      "GTTCTAA\n"
     ]
    }
   ],
   "source": [
    "#print the second exon (second caps)\n",
    "print(gene[16:])\n",
    "print(gene[-7:])"
   ]
  },
  {
   "cell_type": "code",
   "execution_count": 12,
   "metadata": {},
   "outputs": [
    {
     "name": "stdout",
     "output_type": "stream",
     "text": [
      "ATGCCAGTGTTCTAA\n"
     ]
    }
   ],
   "source": [
    "#print concatenated exons\n",
    "print(gene[0:8]+gene[16:])"
   ]
  },
  {
   "cell_type": "code",
   "execution_count": 23,
   "metadata": {},
   "outputs": [
    {
     "name": "stdout",
     "output_type": "stream",
     "text": [
      "ATG\n",
      "ATG\n"
     ]
    }
   ],
   "source": [
    "#print the start codon\n",
    "print(gene[0:3])\n",
    "print(gene[:3])"
   ]
  },
  {
   "cell_type": "code",
   "execution_count": 17,
   "metadata": {},
   "outputs": [
    {
     "name": "stdout",
     "output_type": "stream",
     "text": [
      "TAA\n"
     ]
    }
   ],
   "source": [
    "#print the stop codon\n",
    "print(gene[-3:])"
   ]
  },
  {
   "cell_type": "code",
   "execution_count": null,
   "metadata": {},
   "outputs": [],
   "source": []
  }
 ],
 "metadata": {
  "kernelspec": {
   "display_name": "Python 3",
   "language": "python",
   "name": "python3"
  },
  "language_info": {
   "codemirror_mode": {
    "name": "ipython",
    "version": 3
   },
   "file_extension": ".py",
   "mimetype": "text/x-python",
   "name": "python",
   "nbconvert_exporter": "python",
   "pygments_lexer": "ipython3",
   "version": "3.6.4"
  }
 },
 "nbformat": 4,
 "nbformat_minor": 2
}
