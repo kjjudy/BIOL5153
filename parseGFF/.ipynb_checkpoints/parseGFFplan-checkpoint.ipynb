{
 "cells": [
  {
   "cell_type": "code",
   "execution_count": 1,
   "metadata": {},
   "outputs": [
    {
     "name": "stderr",
     "output_type": "stream",
     "text": [
      "usage: ipykernel_launcher.py [-h] fasta gff\n",
      "ipykernel_launcher.py: error: the following arguments are required: gff\n"
     ]
    },
    {
     "ename": "SystemExit",
     "evalue": "2",
     "output_type": "error",
     "traceback": [
      "An exception has occurred, use %tb to see the full traceback.\n",
      "\u001b[0;31mSystemExit\u001b[0m\u001b[0;31m:\u001b[0m 2\n"
     ]
    },
    {
     "name": "stderr",
     "output_type": "stream",
     "text": [
      "/Library/Frameworks/Python.framework/Versions/3.6/lib/python3.6/site-packages/IPython/core/interactiveshell.py:2918: UserWarning: To exit: use 'exit', 'quit', or Ctrl-D.\n",
      "  warn(\"To exit: use 'exit', 'quit', or Ctrl-D.\", stacklevel=1)\n"
     ]
    }
   ],
   "source": [
    "#columns (separated by tabs? check) 4-5 are start-end in .gff\n",
    "#import modules\n",
    "import argparse\n",
    "from Bio import SeqIO\n",
    "\n",
    "#setup command-line argument input for module use with argparse\n",
    "#create ArgumentParser object to hold all info\n",
    "parser=argparse.ArgumentParser(description=\"This script writes out individual genes from a .fasta genome based on locations specified in a GenBank .gff file\")\n",
    "\n",
    "#add arguments\n",
    "parser.add_argument(\"fasta\",help=\"name of FASTA file, must be the first argument. Input the full path name if the file is not in current working directory.\")\n",
    "parser.add_argument(\"gff\",help=\"name of GFF file, must be the second argument. Input the full path name if file is not in current working directory.\")\n",
    "\n",
    "#parse the arguments\n",
    "args=parser.parse_args()\n",
    "\n",
    "#read in and store genome (.fasta) using SeqIO\n",
    "for genome in SeqIO.parse(args.fasta, \"fasta\"):\n",
    "    #set variable\n",
    "    genome=genome.seq\n",
    "    #print(genome.seq)    \n",
    "#open .gff file\n",
    "file=open(args.gff)\n",
    "#give list input each line of .gff file\n",
    "for line in file:\n",
    "#split each line into lists of strings\n",
    "    list=line.split(\"\\t\")\n",
    "#set variables of start/end coordinates\n",
    "    #start=(int(list[3])-1)\n",
    "    #end=(int(list[4])-1)\n",
    "#print some \"header info\"? (organism name, intron/exon, etc in .fasta style)\n",
    "\n",
    "\n",
    "#print data from genome at coordinates\n",
    "    print(genome[(int(list[3])-1):(int(list[4])-1)])\n",
    "#close .gff file\n",
    "file.close()\n",
    "    "
   ]
  },
  {
   "cell_type": "code",
   "execution_count": 5,
   "metadata": {},
   "outputs": [
    {
     "ename": "TypeError",
     "evalue": "string indices must be integers",
     "output_type": "error",
     "traceback": [
      "\u001b[0;31m---------------------------------------------------------------------------\u001b[0m",
      "\u001b[0;31mTypeError\u001b[0m                                 Traceback (most recent call last)",
      "\u001b[0;32m<ipython-input-5-6ead9df408af>\u001b[0m in \u001b[0;36m<module>\u001b[0;34m()\u001b[0m\n\u001b[1;32m      2\u001b[0m \u001b[0mstr1\u001b[0m\u001b[0;34m=\u001b[0m\u001b[0;34m\"1\"\u001b[0m\u001b[0;34m\u001b[0m\u001b[0m\n\u001b[1;32m      3\u001b[0m \u001b[0mstr2\u001b[0m\u001b[0;34m=\u001b[0m\u001b[0;34m\"2\"\u001b[0m\u001b[0;34m\u001b[0m\u001b[0m\n\u001b[0;32m----> 4\u001b[0;31m \u001b[0mdata\u001b[0m\u001b[0;34m[\u001b[0m\u001b[0mstr1\u001b[0m\u001b[0;34m]\u001b[0m\u001b[0;34m\u001b[0m\u001b[0m\n\u001b[0m",
      "\u001b[0;31mTypeError\u001b[0m: string indices must be integers"
     ]
    }
   ],
   "source": [
    "data=\"abcd\"\n",
    "str1=\"1\"\n",
    "str2=\"2\"\n",
    "data[str1]"
   ]
  },
  {
   "cell_type": "code",
   "execution_count": null,
   "metadata": {},
   "outputs": [],
   "source": []
  }
 ],
 "metadata": {
  "kernelspec": {
   "display_name": "Python 3",
   "language": "python",
   "name": "python3"
  },
  "language_info": {
   "codemirror_mode": {
    "name": "ipython",
    "version": 3
   },
   "file_extension": ".py",
   "mimetype": "text/x-python",
   "name": "python",
   "nbconvert_exporter": "python",
   "pygments_lexer": "ipython3",
   "version": "3.6.4"
  }
 },
 "nbformat": 4,
 "nbformat_minor": 2
}
