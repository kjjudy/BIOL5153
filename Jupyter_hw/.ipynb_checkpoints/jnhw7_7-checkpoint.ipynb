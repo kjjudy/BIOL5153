{
 "cells": [
  {
   "cell_type": "code",
   "execution_count": 1,
   "metadata": {},
   "outputs": [
    {
     "name": "stdout",
     "output_type": "stream",
     "text": [
      "restriction site found!\n"
     ]
    }
   ],
   "source": [
    "import re\n",
    "#important for creating regular expressions\n",
    "#format of expression is re.tool(pattern,string)\n",
    "#to use certain special characters as their literal character, use (r\"string\")\n",
    "#simplest tool is re.search\n",
    "dna=\"ATCGCGAATTCAC\"\n",
    "if re.search(r\"GAATTC\", dna):\n",
    "    print(\"restriction site found!\")"
   ]
  },
  {
   "cell_type": "code",
   "execution_count": 2,
   "metadata": {},
   "outputs": [],
   "source": [
    "if re.search(r\"GGACC\",dna) or re.search(r\"GGTCC\", dna):\n",
    "    print(\"restriction site found!\")"
   ]
  },
  {
   "cell_type": "code",
   "execution_count": 3,
   "metadata": {},
   "outputs": [],
   "source": [
    "#better way to express the same condition:\n",
    "#| character = \"or\" for items on either side\n",
    "if re.search(r\"GG(A|T)CC\",dna):\n",
    "    print(\"restriction site found\")"
   ]
  },
  {
   "cell_type": "code",
   "execution_count": 4,
   "metadata": {},
   "outputs": [],
   "source": [
    "#similar example using BisI enzyme site (cuts at GCNGC where N is any base)\n",
    "if re.search(r\"GC(A|T|G|C)GC\",dna):\n",
    "    print(\"restriction site found\")"
   ]
  },
  {
   "cell_type": "code",
   "execution_count": 8,
   "metadata": {},
   "outputs": [],
   "source": [
    "#better way to express the same using []\n",
    "#[] characters match to any one of the internal characters\n",
    "dna=\"ATCGCGAATTCAC\"\n",
    "if re.search(r\"GC[ATGC]GC\", dna):\n",
    "    print(\"restriction site found\")"
   ]
  },
  {
   "cell_type": "code",
   "execution_count": 9,
   "metadata": {},
   "outputs": [],
   "source": [
    "#use ^ at the start of a character group, [^], to negate contents\n",
    "#quantifier features describe variation in times a pattern is repeated\n",
    "#? matches preceding character (or parentheses contents) either 0 or 1 time\n",
    "#+ matches preceding character (or parentheses contents) 1+ times\n",
    "#* matches preceding character (or parentheses contents) 0+ times (optional-infinite)\n",
    "#{} specify # of matches (or range of matches if {#,#})\n",
    "#positions in a string defined by\n",
    "#^ matches start of a string (for following characters)\n",
    "#$ matches end of a string (for preceding characters)\n"
   ]
  },
  {
   "cell_type": "code",
   "execution_count": 11,
   "metadata": {},
   "outputs": [
    {
     "name": "stdout",
     "output_type": "stream",
     "text": [
      "GACGTAC\n"
     ]
    }
   ],
   "source": [
    "#when regular expression=True, a \"match object\" is produced, can be accessed\n",
    "#.group method pulls out all or internal parts of a match object\n",
    "#.group() or .group(0) pulls out the exact match, shows what the variable sections of expression accepted\n",
    "dna=\"ATGACGTACGTACGACTG\"\n",
    "m=re.search(r\"GA[ATGC]{3}AC\",dna)\n",
    "print(m.group())"
   ]
  },
  {
   "cell_type": "code",
   "execution_count": 12,
   "metadata": {},
   "outputs": [
    {
     "name": "stdout",
     "output_type": "stream",
     "text": [
      "entire match GACGTACGTAC\n",
      "first bit CGT\n",
      "second bit GT\n"
     ]
    }
   ],
   "source": [
    "#to capture specific portions of a potential match, surround with parentheses, each sequent group will be .group(1+)\n",
    "m=re.search(r\"GA([ATGC]{3})AC([ATCG]{2})AC\",dna)\n",
    "print(\"entire match \"+m.group())\n",
    "print(\"first bit \"+m.group(1))\n",
    "print(\"second bit \"+m.group(2))"
   ]
  },
  {
   "cell_type": "code",
   "execution_count": 13,
   "metadata": {},
   "outputs": [
    {
     "name": "stdout",
     "output_type": "stream",
     "text": [
      "start 2\n",
      "end 13\n",
      "group 1 start 4\n",
      "group 1 end 7\n",
      "group 2 start 9\n",
      "group 2 end 11\n"
     ]
    }
   ],
   "source": [
    "#to collect start and end positions of a match or portions of a match, use .start(group_#) and .end(group_#)\n",
    "#positions are integers by default\n",
    "m=re.search(r\"GA([ATGC]{3})AC([ATCG]{2})AC\",dna)\n",
    "print(\"start \"+str(m.start()))\n",
    "print(\"end \"+str(m.end()))\n",
    "print(\"group 1 start \"+str(m.start(1)))\n",
    "print(\"group 1 end \"+str(m.end(1)))\n",
    "print(\"group 2 start \"+str(m.start(2)))\n",
    "print(\"group 2 end \"+str(m.end(2)))"
   ]
  },
  {
   "cell_type": "code",
   "execution_count": 14,
   "metadata": {},
   "outputs": [
    {
     "name": "stdout",
     "output_type": "stream",
     "text": [
      "['ACT', 'GCAT', 'GCTACGT', 'ACGAT', 'CGA', 'TCG']\n"
     ]
    }
   ],
   "source": [
    "#re.split can be used to split a string on a pattern\n",
    "dna=\"ACTNGCATRGCTACGTYACGATSCGAWTCG\"\n",
    "runs=re.split(r\"[^ATGC]\",dna)\n",
    "print(runs)"
   ]
  },
  {
   "cell_type": "code",
   "execution_count": 15,
   "metadata": {},
   "outputs": [
    {
     "name": "stdout",
     "output_type": "stream",
     "text": [
      "['ATTATAT', 'AAATTTATA']\n"
     ]
    }
   ],
   "source": [
    "#to find multiple matches, findall produces only a list of strings\n",
    "#format is re.findall(\"[desired_pattern]{modifiers}\",string)\n",
    "dna=\"ACTGCATTATATCGTACGAAATTTATACGCGCG\"\n",
    "runs=re.findall(r\"[AT]{4,}\",dna)\n",
    "print(runs)"
   ]
  },
  {
   "cell_type": "code",
   "execution_count": 16,
   "metadata": {},
   "outputs": [
    {
     "name": "stdout",
     "output_type": "stream",
     "text": [
      "AT rich region from 5 to 12\n",
      "AT rich region from 18 to 27\n"
     ]
    }
   ],
   "source": [
    "#re.finditer returns a sequence of match objects (can be used in loops to extract match object info)\n",
    "runs=re.finditer(r\"[AT]{3,}\",dna)\n",
    "for match in runs:\n",
    "    run_start=match.start()\n",
    "    run_end=match.end()\n",
    "    print(\"AT rich region from \"+str(run_start)+\" to \"+str(run_end))"
   ]
  },
  {
   "cell_type": "code",
   "execution_count": null,
   "metadata": {},
   "outputs": [],
   "source": []
  }
 ],
 "metadata": {
  "kernelspec": {
   "display_name": "Python 3",
   "language": "python",
   "name": "python3"
  },
  "language_info": {
   "codemirror_mode": {
    "name": "ipython",
    "version": 3
   },
   "file_extension": ".py",
   "mimetype": "text/x-python",
   "name": "python",
   "nbconvert_exporter": "python",
   "pygments_lexer": "ipython3",
   "version": "3.6.4"
  }
 },
 "nbformat": 4,
 "nbformat_minor": 2
}
