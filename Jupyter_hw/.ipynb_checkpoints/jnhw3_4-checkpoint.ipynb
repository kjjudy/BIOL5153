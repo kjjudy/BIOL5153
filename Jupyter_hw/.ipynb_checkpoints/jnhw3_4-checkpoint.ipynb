{
 "cells": [
  {
   "cell_type": "code",
   "execution_count": 1,
   "metadata": {},
   "outputs": [],
   "source": [
    "#set the values of all the sequence variables\n",
    "seq_1=\"ATCGTACGATCGATCGCTACACGTATCG\"\n",
    "seq_2=\"actgatcgacgatcgatcgatcacgact\"\n",
    "seq_3=\"ACTGAC-ACTGT-ACTGTA----CATGTG\""
   ]
  },
  {
   "cell_type": "code",
   "execution_count": 3,
   "metadata": {},
   "outputs": [
    {
     "name": "stdout",
     "output_type": "stream",
     "text": [
      "Homo sapiens\n",
      "132\n"
     ]
    }
   ],
   "source": [
    "#making a list\n",
    "apes=[\"Homo sapiens\",\"Pan troglodytes\",\"Gorilla gorilla\"]\n",
    "conserved_sites=[24,56,132]\n",
    "#retrieving elements by index\n",
    "print(apes[0])\n",
    "first_site=conserved_sites[2]\n",
    "#not from book\n",
    "print(first_site)"
   ]
  },
  {
   "cell_type": "code",
   "execution_count": 4,
   "metadata": {},
   "outputs": [
    {
     "name": "stdout",
     "output_type": "stream",
     "text": [
      "1\n"
     ]
    }
   ],
   "source": [
    "#index method to return index value of element\n",
    "chimp_index=apes.index(\"Pan troglodytes\")\n",
    "#chimp_index is 1\n",
    "print(chimp_index)"
   ]
  },
  {
   "cell_type": "code",
   "execution_count": 5,
   "metadata": {},
   "outputs": [
    {
     "name": "stdout",
     "output_type": "stream",
     "text": [
      "Gorilla gorilla\n"
     ]
    }
   ],
   "source": [
    "#negative index numbers start from back of list\n",
    "last_ape=apes[-1]\n",
    "print(last_ape)"
   ]
  },
  {
   "cell_type": "code",
   "execution_count": 6,
   "metadata": {},
   "outputs": [
    {
     "name": "stdout",
     "output_type": "stream",
     "text": [
      "['class', 'order', 'family']\n"
     ]
    }
   ],
   "source": [
    "#[start index:stop index] provides a range\n",
    "ranks=[\"kingdom\",\"phylum\",\"class\",\"order\",\"family\"]\n",
    "lower_ranks=ranks[2:5]\n",
    "print(lower_ranks)"
   ]
  },
  {
   "cell_type": "code",
   "execution_count": 11,
   "metadata": {},
   "outputs": [
    {
     "name": "stdout",
     "output_type": "stream",
     "text": [
      "['Homo sapiens', 'Pan troglodytes', 'Gorilla gorilla']\n",
      "There are 3 apes\n",
      "['Homo sapiens', 'Pan troglodytes', 'Gorilla gorilla', 'Pan paniscus']\n",
      "Now there are 4 apes\n"
     ]
    }
   ],
   "source": [
    "#.append method for adding to a list (changes the variable)\n",
    "apes=[\"Homo sapiens\",\"Pan troglodytes\",\"Gorilla gorilla\"]\n",
    "print(apes)\n",
    "#use len()as another indicator of changed variable\n",
    "print(\"There are \"+str(len(apes))+\" apes\")\n",
    "apes.append(\"Pan paniscus\")\n",
    "print(apes)\n",
    "print(\"Now there are \"+str(len(apes))+\" apes\")"
   ]
  },
  {
   "cell_type": "code",
   "execution_count": 12,
   "metadata": {},
   "outputs": [
    {
     "name": "stdout",
     "output_type": "stream",
     "text": [
      "4 apes\n",
      "2 monkeys\n",
      "6 primates\n"
     ]
    }
   ],
   "source": [
    "#concatenate multiple lists\n",
    "monkeys=[\"Papio ursinus\",\"Macaca mulatta\"]\n",
    "primates=apes+monkeys\n",
    "print(str(len(apes))+\" apes\")\n",
    "print(str(len(monkeys))+\" monkeys\")\n",
    "print(str(len(primates))+\" primates\")"
   ]
  },
  {
   "cell_type": "code",
   "execution_count": 14,
   "metadata": {},
   "outputs": [
    {
     "name": "stdout",
     "output_type": "stream",
     "text": [
      "at the start : ['kingdom', 'phylum', 'class', 'order', 'family']\n",
      "after reversing : ['family', 'order', 'class', 'phylum', 'kingdom']\n",
      "after sorting : ['class', 'family', 'kingdom', 'order', 'phylum']\n"
     ]
    }
   ],
   "source": [
    "#.extend method adds a list (or parts of one?) onto another\n",
    "#.reverse method reverses list order\n",
    "#.sort method sorts strings in alphabet order, numbers in ascending # order\n",
    "print(\"at the start : \"+str(ranks))\n",
    "ranks.reverse()\n",
    "print(\"after reversing : \"+str(ranks))\n",
    "ranks.sort()\n",
    "print(\"after sorting : \"+str(ranks))"
   ]
  },
  {
   "cell_type": "code",
   "execution_count": 17,
   "metadata": {},
   "outputs": [
    {
     "name": "stdout",
     "output_type": "stream",
     "text": [
      "Homo sapiens is an ape\n",
      "Pan troglodytes is an ape\n",
      "Gorilla gorilla is an ape\n",
      "Pan paniscus is an ape\n"
     ]
    }
   ],
   "source": [
    "#using loops in Python\n",
    "for ape in apes:\n",
    "    print(ape+\" is an ape\")\n",
    "#for x in y\n",
    "    #'whatever is to happen to each x\n",
    "#x variable is assigned by the writing of the loop- does not have to be set elsewhere, by default each element in a list takes that name in the loop"
   ]
  },
  {
   "cell_type": "code",
   "execution_count": 19,
   "metadata": {},
   "outputs": [
    {
     "name": "stdout",
     "output_type": "stream",
     "text": [
      "Homo sapiens is an ape. Its name starts with H\n",
      "Its name has 12 letters\n",
      "Pan troglodytes is an ape. Its name starts with P\n",
      "Its name has 15 letters\n",
      "Gorilla gorilla is an ape. Its name starts with G\n",
      "Its name has 15 letters\n",
      "Pan paniscus is an ape. Its name starts with P\n",
      "Its name has 12 letters\n"
     ]
    }
   ],
   "source": [
    "#a little more complex loop example\n",
    "for ape in apes:\n",
    "        name_length=len(ape)\n",
    "        first_letter=ape[0]\n",
    "        print(ape+ \" is an ape. Its name starts with \"+first_letter)\n",
    "        print(\"Its name has \"+str(name_length)+ \" letters\")"
   ]
  },
  {
   "cell_type": "code",
   "execution_count": 22,
   "metadata": {},
   "outputs": [
    {
     "ename": "IndentationError",
     "evalue": "unexpected indent (<ipython-input-22-2a712fcfa530>, line 4)",
     "output_type": "error",
     "traceback": [
      "\u001b[0;36m  File \u001b[0;32m\"<ipython-input-22-2a712fcfa530>\"\u001b[0;36m, line \u001b[0;32m4\u001b[0m\n\u001b[0;31m    first_letter=ape[0]\u001b[0m\n\u001b[0m    ^\u001b[0m\n\u001b[0;31mIndentationError\u001b[0m\u001b[0;31m:\u001b[0m unexpected indent\n"
     ]
    }
   ],
   "source": [
    "#indent levels (by tab or spaces) must match\n",
    "for ape in apes:\n",
    "   name_length=len(ape)\n",
    "    first_letter=ape[0]\n",
    "   print(ape+\" is an ape. Its name starts with \"+first_letter)\n",
    "   print(\"Its name has \"+str(name_length)+\" letters\")"
   ]
  },
  {
   "cell_type": "code",
   "execution_count": 23,
   "metadata": {},
   "outputs": [
    {
     "name": "stdout",
     "output_type": "stream",
     "text": [
      "one character is K\n",
      "one character is a\n",
      "one character is t\n",
      "one character is h\n",
      "one character is r\n",
      "one character is y\n",
      "one character is n\n"
     ]
    }
   ],
   "source": [
    "#using a string as a list in loops\n",
    "#each character in the list = element\n",
    "name=\"Kathryn\"\n",
    "for character in name:\n",
    "    print(\"one character is \"+character)"
   ]
  },
  {
   "cell_type": "code",
   "execution_count": 24,
   "metadata": {},
   "outputs": [
    {
     "name": "stdout",
     "output_type": "stream",
     "text": [
      "['mlanogaster', 'simulans', 'yakuba', 'ananassae']\n"
     ]
    }
   ],
   "source": [
    "#splitting strings to get lists\n",
    "#.split() method breaks strings into list elements based on location of a \"delimiter\" argument\n",
    "names=\"mlanogaster,simulans,yakuba,ananassae\"\n",
    "species=names.split(\",\")\n",
    "print(str(species))\n",
    "#now the string is a list where each element is >1 character for loop purposes"
   ]
  },
  {
   "cell_type": "code",
   "execution_count": 27,
   "metadata": {},
   "outputs": [
    {
     "name": "stdout",
     "output_type": "stream",
     "text": [
      "vls\n",
      "vlsp\n",
      "vlspa\n",
      "vlspad\n",
      "vlspadk\n",
      "vlspadkt\n",
      "vlspadktn\n",
      "vlspadktnv\n"
     ]
    }
   ],
   "source": [
    "#files treated as lists (in loops): element=line in file\n",
    "#file=open(\"file.txt)\n",
    "#for line in file:\n",
    "    #do x with line\n",
    "#WARNING: when working with files, either use read method OR loop method (python thinks the file is already at the end for the second)\n",
    "#to get around this, close and re-open file in code\n",
    "\n",
    "#looping in ranges-faster way to do something like:\n",
    "protein=\"vlspadktnv\"\n",
    "stop_positions=[3,4,5,6,7,8,9,10]\n",
    "for stop in stop_positions:\n",
    "    substring=protein[0:stop]\n",
    "    print(substring)"
   ]
  },
  {
   "cell_type": "code",
   "execution_count": 28,
   "metadata": {},
   "outputs": [
    {
     "name": "stdout",
     "output_type": "stream",
     "text": [
      "0\n",
      "1\n",
      "2\n",
      "3\n",
      "4\n",
      "5\n"
     ]
    }
   ],
   "source": [
    "#range function generates # list for looping, can take 1-3 arguments\n",
    "for number in range(6):\n",
    "    print(number)\n",
    "#single argument counts up 0-number (excluding #)"
   ]
  },
  {
   "cell_type": "code",
   "execution_count": 29,
   "metadata": {},
   "outputs": [
    {
     "name": "stdout",
     "output_type": "stream",
     "text": [
      "3\n",
      "4\n",
      "5\n",
      "6\n",
      "7\n"
     ]
    }
   ],
   "source": [
    "#2 numbers counts inclusively from first, exclusively for second\n",
    "for number in range(3,8):\n",
    "    print(number)"
   ]
  },
  {
   "cell_type": "code",
   "execution_count": 30,
   "metadata": {},
   "outputs": [
    {
     "name": "stdout",
     "output_type": "stream",
     "text": [
      "2\n",
      "6\n",
      "10\n"
     ]
    }
   ],
   "source": [
    "#3 numbers counts 1st to 2nd (inclusive;exclusive) by step of third\n",
    "for number in range(2,14,4):\n",
    "    print(number)"
   ]
  },
  {
   "cell_type": "code",
   "execution_count": 31,
   "metadata": {},
   "outputs": [
    {
     "ename": "TypeError",
     "evalue": "range expected at most 3 arguments, got 4",
     "output_type": "error",
     "traceback": [
      "\u001b[0;31m---------------------------------------------------------------------------\u001b[0m",
      "\u001b[0;31mTypeError\u001b[0m                                 Traceback (most recent call last)",
      "\u001b[0;32m<ipython-input-31-b92d6dd53a12>\u001b[0m in \u001b[0;36m<module>\u001b[0;34m()\u001b[0m\n\u001b[1;32m      1\u001b[0m \u001b[0;31m#4+ numbers gives error?\u001b[0m\u001b[0;34m\u001b[0m\u001b[0;34m\u001b[0m\u001b[0m\n\u001b[0;32m----> 2\u001b[0;31m \u001b[0;32mfor\u001b[0m \u001b[0mnumber\u001b[0m \u001b[0;32min\u001b[0m \u001b[0mrange\u001b[0m\u001b[0;34m(\u001b[0m\u001b[0;36m2\u001b[0m\u001b[0;34m,\u001b[0m\u001b[0;36m14\u001b[0m\u001b[0;34m,\u001b[0m\u001b[0;36m2\u001b[0m\u001b[0;34m,\u001b[0m\u001b[0;36m3\u001b[0m\u001b[0;34m)\u001b[0m\u001b[0;34m:\u001b[0m\u001b[0;34m\u001b[0m\u001b[0m\n\u001b[0m\u001b[1;32m      3\u001b[0m     \u001b[0mprint\u001b[0m\u001b[0;34m(\u001b[0m\u001b[0mnumber\u001b[0m\u001b[0;34m)\u001b[0m\u001b[0;34m\u001b[0m\u001b[0m\n",
      "\u001b[0;31mTypeError\u001b[0m: range expected at most 3 arguments, got 4"
     ]
    }
   ],
   "source": [
    "#4+ numbers gives error\n",
    "for number in range(2,14,2,3):\n",
    "    print(number)"
   ]
  },
  {
   "cell_type": "code",
   "execution_count": 32,
   "metadata": {},
   "outputs": [
    {
     "ename": "TypeError",
     "evalue": "range expected 1 arguments, got 0",
     "output_type": "error",
     "traceback": [
      "\u001b[0;31m---------------------------------------------------------------------------\u001b[0m",
      "\u001b[0;31mTypeError\u001b[0m                                 Traceback (most recent call last)",
      "\u001b[0;32m<ipython-input-32-bdf69a065762>\u001b[0m in \u001b[0;36m<module>\u001b[0;34m()\u001b[0m\n\u001b[1;32m      1\u001b[0m \u001b[0;31m#0 number-range gives error?\u001b[0m\u001b[0;34m\u001b[0m\u001b[0;34m\u001b[0m\u001b[0m\n\u001b[0;32m----> 2\u001b[0;31m \u001b[0;32mfor\u001b[0m \u001b[0mnumber\u001b[0m \u001b[0;32min\u001b[0m \u001b[0mrange\u001b[0m\u001b[0;34m(\u001b[0m\u001b[0;34m)\u001b[0m\u001b[0;34m:\u001b[0m\u001b[0;34m\u001b[0m\u001b[0m\n\u001b[0m\u001b[1;32m      3\u001b[0m     \u001b[0mprint\u001b[0m\u001b[0;34m(\u001b[0m\u001b[0mnumber\u001b[0m\u001b[0;34m)\u001b[0m\u001b[0;34m\u001b[0m\u001b[0m\n",
      "\u001b[0;31mTypeError\u001b[0m: range expected 1 arguments, got 0"
     ]
    }
   ],
   "source": [
    "#0 number-range gives error\n",
    "for number in range():\n",
    "    print(number)"
   ]
  },
  {
   "cell_type": "code",
   "execution_count": 33,
   "metadata": {},
   "outputs": [
    {
     "name": "stdout",
     "output_type": "stream",
     "text": [
      "-2\n",
      "-1\n",
      "0\n",
      "1\n",
      "2\n",
      "3\n"
     ]
    }
   ],
   "source": [
    "#negative numbers behave as any number in position 1\n",
    "for number in range(-2,4):\n",
    "    print(number)"
   ]
  },
  {
   "cell_type": "code",
   "execution_count": 34,
   "metadata": {},
   "outputs": [
    {
     "name": "stdout",
     "output_type": "stream",
     "text": [
      "8\n",
      "7\n",
      "6\n",
      "5\n",
      "4\n"
     ]
    }
   ],
   "source": [
    "#descending patterns can be achieved with reversed #1,#2, and negative #3-must have this pattern (see below)\n",
    "for number in range(8,3,-1):\n",
    "    print(number)\n"
   ]
  },
  {
   "cell_type": "code",
   "execution_count": 37,
   "metadata": {},
   "outputs": [],
   "source": [
    "#non-functional (and no error-message) if syntax is impossible\n",
    "for number in range(8,3,1):\n",
    "    print(number)\n",
    "for number in range(3,8,-1):\n",
    "    print(number)"
   ]
  },
  {
   "cell_type": "code",
   "execution_count": null,
   "metadata": {},
   "outputs": [],
   "source": []
  }
 ],
 "metadata": {
  "kernelspec": {
   "display_name": "Python 3",
   "language": "python",
   "name": "python3"
  },
  "language_info": {
   "codemirror_mode": {
    "name": "ipython",
    "version": 3
   },
   "file_extension": ".py",
   "mimetype": "text/x-python",
   "name": "python",
   "nbconvert_exporter": "python",
   "pygments_lexer": "ipython3",
   "version": "3.6.4"
  }
 },
 "nbformat": 4,
 "nbformat_minor": 2
}
