{
 "cells": [
  {
   "cell_type": "code",
   "execution_count": 1,
   "metadata": {},
   "outputs": [
    {
     "data": {
      "text/plain": [
       "0.5"
      ]
     },
     "execution_count": 1,
     "metadata": {},
     "output_type": "execute_result"
    }
   ],
   "source": [
    "#writing functions\n",
    "#defining a function to calculate at content\n",
    "#def defines the name of function(name of argument variables):\n",
    "def get_at_content(dna):\n",
    "    #describes actions of the function\n",
    "    length=len(dna)\n",
    "    a_count=dna.count('A')\n",
    "    t_count=dna.count('T')\n",
    "    at_content=(a_count+t_count)/length\n",
    "    #execution of the sequence (when function is called)\n",
    "    return at_content\n",
    "get_at_content(\"ATGACTGGACCA\")"
   ]
  },
  {
   "cell_type": "code",
   "execution_count": 2,
   "metadata": {},
   "outputs": [],
   "source": [
    "at_content=get_at_content(\"ATGACTGGACCA\")"
   ]
  },
  {
   "cell_type": "code",
   "execution_count": 3,
   "metadata": {},
   "outputs": [
    {
     "name": "stdout",
     "output_type": "stream",
     "text": [
      "AT content is 0.5\n"
     ]
    }
   ],
   "source": [
    "print(\"AT content is \"+str(get_at_content(\"ATGACTGGACCA\")))"
   ]
  },
  {
   "cell_type": "code",
   "execution_count": 5,
   "metadata": {},
   "outputs": [
    {
     "ename": "NameError",
     "evalue": "name 'a_count' is not defined",
     "output_type": "error",
     "traceback": [
      "\u001b[0;31m---------------------------------------------------------------------------\u001b[0m",
      "\u001b[0;31mNameError\u001b[0m                                 Traceback (most recent call last)",
      "\u001b[0;32m<ipython-input-5-eb1ba9d17857>\u001b[0m in \u001b[0;36m<module>\u001b[0;34m()\u001b[0m\n\u001b[1;32m      1\u001b[0m \u001b[0;31m#variables created as part of the function cannot be accessed outside\u001b[0m\u001b[0;34m\u001b[0m\u001b[0;34m\u001b[0m\u001b[0m\n\u001b[0;32m----> 2\u001b[0;31m \u001b[0mprint\u001b[0m\u001b[0;34m(\u001b[0m\u001b[0ma_count\u001b[0m\u001b[0;34m)\u001b[0m\u001b[0;34m\u001b[0m\u001b[0m\n\u001b[0m",
      "\u001b[0;31mNameError\u001b[0m: name 'a_count' is not defined"
     ]
    }
   ],
   "source": [
    "#variables created as part of the function cannot be accessed outside\n",
    "print(a_count)"
   ]
  },
  {
   "cell_type": "code",
   "execution_count": 10,
   "metadata": {},
   "outputs": [
    {
     "name": "stdout",
     "output_type": "stream",
     "text": [
      "0.45\n",
      "0.5294117647058824\n",
      "0.0\n"
     ]
    }
   ],
   "source": [
    "#program using the function\n",
    "def get_at_content(dna):\n",
    "    #describes actions of the function\n",
    "    length=len(dna)\n",
    "    a_count=dna.count('A')\n",
    "    t_count=dna.count('T')\n",
    "    at_content=(a_count+t_count)/length\n",
    "    #execution of the sequence (when function is called)\n",
    "    return at_content\n",
    "\n",
    "my_at_content=get_at_content(\"ATGCGCGATCGATCGAATCG\")\n",
    "print(str(my_at_content))\n",
    "print(get_at_content(\"ATGCATGCAACTGTAGC\"))\n",
    "print(get_at_content(\"aactgtagctagctagcagcgta\"))"
   ]
  },
  {
   "cell_type": "code",
   "execution_count": 11,
   "metadata": {},
   "outputs": [
    {
     "name": "stdout",
     "output_type": "stream",
     "text": [
      "0.45\n",
      "0.53\n",
      "0.52\n"
     ]
    }
   ],
   "source": [
    "#fixing function to round to 2 decimal places always + to take upper and lowercase\n",
    "def get_at_content(dna):\n",
    "    length=len(dna)\n",
    "    a_count=dna.upper().count('A')\n",
    "    t_count=dna.upper().count('T')\n",
    "    at_content=(a_count+t_count)/length\n",
    "    return round(at_content,2)\n",
    "\n",
    "my_at_content=get_at_content(\"ATGCGCGATCGATCGAATCG\")\n",
    "print(str(my_at_content))\n",
    "print(get_at_content(\"ATGCATGCAACTGTAGC\"))\n",
    "print(get_at_content(\"aactgtagctagctagcagcgta\"))"
   ]
  },
  {
   "cell_type": "code",
   "execution_count": 12,
   "metadata": {},
   "outputs": [
    {
     "name": "stdout",
     "output_type": "stream",
     "text": [
      "0.5\n",
      "0.53\n",
      "0.529\n"
     ]
    }
   ],
   "source": [
    "#adding sigfig customization to function\n",
    "def get_at_content(dna,sig_figs):\n",
    "    length=len(dna)\n",
    "    a_count=dna.upper().count('A')\n",
    "    t_count=dna.upper().count('T')\n",
    "    at_content=(a_count+t_count)/length\n",
    "    return round(at_content,sig_figs)\n",
    "\n",
    "test_dna=\"ATGCATGCAACTGTAGC\"\n",
    "print(get_at_content(test_dna,1))\n",
    "print(get_at_content(test_dna,2))\n",
    "print(get_at_content(test_dna,3))"
   ]
  },
  {
   "cell_type": "code",
   "execution_count": 15,
   "metadata": {},
   "outputs": [
    {
     "name": "stdout",
     "output_type": "stream",
     "text": [
      "0.5\n"
     ]
    }
   ],
   "source": [
    "#functions are very useful because they allow for encapsulation-- multiple independently working parts that can each be understood individually and then called together to perform complex actions\n",
    "#functions do not always have to take arguments\n",
    "def get_number():\n",
    "    return 42\n",
    "#these are not very useful though\n",
    "#this seems useful at first, but the two code portions are not independent anymore-- function requires a variable to be defined before it is called\n",
    "#more useful to to ID which variables from outside a function are being used inside, then turn them into arguments\n",
    "def get_at_content():\n",
    "    length = len(dna)\n",
    "    a_count = dna.upper().count('A')\n",
    "    t_count = dna.upper().count('T')\n",
    "    at_content = (a_count + t_count) / length\n",
    "    return round(at_content, 2)\n",
    "\n",
    "dna = \"ACTGATCGATCG\"\n",
    "print(get_at_content())"
   ]
  },
  {
   "cell_type": "code",
   "execution_count": 16,
   "metadata": {},
   "outputs": [],
   "source": [
    "#functions do not have to 'return' a value\n",
    "def print_at_content(dna):\n",
    "    length = len(dna)\n",
    "    a_count = dna.upper().count('A')\n",
    "    t_count = dna.upper().count('T')\n",
    "    at_content = (a_count + t_count) / length\n",
    "    print(str(round(at_content, 2)))\n",
    "\n",
    "#this function is less flexible than one which returns output though (would have to be modified to do anything other than print)\n",
    "\n"
   ]
  },
  {
   "cell_type": "code",
   "execution_count": 18,
   "metadata": {},
   "outputs": [
    {
     "data": {
      "text/plain": [
       "0.45"
      ]
     },
     "execution_count": 18,
     "metadata": {},
     "output_type": "execute_result"
    }
   ],
   "source": [
    "#functions can be called with named arguments (doesnt rely on order of arguments)\n",
    "def get_at_content(dna,sig_figs):\n",
    "    length=len(dna)\n",
    "    a_count=dna.upper().count('A')\n",
    "    t_count=dna.upper().count('T')\n",
    "    at_content=(a_count+t_count)/length\n",
    "    return round(at_content,sig_figs)\n",
    "\n",
    "get_at_content(\"ATCGTGACTCG\",2)\n",
    "get_at_content(dna=\"ATCGTGACTCG\",sig_figs=2)\n",
    "get_at_content(sig_figs=2,dna=\"ATCGTGACTCG\")\n",
    "get_at_content(\"ATCGTGACTCG\",sig_figs=2)"
   ]
  },
  {
   "cell_type": "code",
   "execution_count": 19,
   "metadata": {},
   "outputs": [
    {
     "ename": "SyntaxError",
     "evalue": "positional argument follows keyword argument (<ipython-input-19-7c75c2aa9c1c>, line 2)",
     "output_type": "error",
     "traceback": [
      "\u001b[0;36m  File \u001b[0;32m\"<ipython-input-19-7c75c2aa9c1c>\"\u001b[0;36m, line \u001b[0;32m2\u001b[0m\n\u001b[0;31m    get_at_content(dna=\"ATCGTGACTCG\",2)\u001b[0m\n\u001b[0m                                    ^\u001b[0m\n\u001b[0;31mSyntaxError\u001b[0m\u001b[0;31m:\u001b[0m positional argument follows keyword argument\n"
     ]
    }
   ],
   "source": [
    "#but you cannot start with keyword argument and then switch to normal\n",
    "get_at_content(dna=\"ATCGTGACTCG\",2)"
   ]
  },
  {
   "cell_type": "code",
   "execution_count": 22,
   "metadata": {},
   "outputs": [
    {
     "data": {
      "text/plain": [
       "0.45"
      ]
     },
     "execution_count": 22,
     "metadata": {},
     "output_type": "execute_result"
    }
   ],
   "source": [
    "#default values can be specified with def(argument_name=default):\n",
    "def get_at_content(dna,sig_figs=2):\n",
    "    length=len(dna)\n",
    "    a_count=dna.upper().count('A')\n",
    "    t_count=dna.upper().count('T')\n",
    "    at_content=(a_count+t_count)/length\n",
    "    return round(at_content,sig_figs)\n",
    "\n",
    "get_at_content(\"ATCGTGACTCG\")"
   ]
  },
  {
   "cell_type": "code",
   "execution_count": 23,
   "metadata": {},
   "outputs": [
    {
     "data": {
      "text/plain": [
       "0.4545"
      ]
     },
     "execution_count": 23,
     "metadata": {},
     "output_type": "execute_result"
    }
   ],
   "source": [
    "get_at_content(\"ATCGTGACTCG\", sig_figs=4)"
   ]
  },
  {
   "cell_type": "code",
   "execution_count": 24,
   "metadata": {},
   "outputs": [
    {
     "data": {
      "text/plain": [
       "0.455"
      ]
     },
     "execution_count": 24,
     "metadata": {},
     "output_type": "execute_result"
    }
   ],
   "source": [
    "get_at_content(\"ATCGTGACTCG\", 3)"
   ]
  },
  {
   "cell_type": "code",
   "execution_count": 25,
   "metadata": {},
   "outputs": [],
   "source": [
    "#Python has assert function to test  functions\n",
    "#format is: \n",
    "#assert name_of_function(\"argument\")==expected_result\n",
    "assert get_at_content(\"ATGC\")==0.5\n",
    "#AssertionError is result if function result does not match"
   ]
  },
  {
   "cell_type": "code",
   "execution_count": 26,
   "metadata": {},
   "outputs": [
    {
     "ename": "AssertionError",
     "evalue": "",
     "output_type": "error",
     "traceback": [
      "\u001b[0;31m---------------------------------------------------------------------------\u001b[0m",
      "\u001b[0;31mAssertionError\u001b[0m                            Traceback (most recent call last)",
      "\u001b[0;32m<ipython-input-26-6449b53d24fe>\u001b[0m in \u001b[0;36m<module>\u001b[0;34m()\u001b[0m\n\u001b[1;32m      1\u001b[0m \u001b[0;31m#can test for whether a function is useful in a given situation or needs editing\u001b[0m\u001b[0;34m\u001b[0m\u001b[0;34m\u001b[0m\u001b[0m\n\u001b[1;32m      2\u001b[0m \u001b[0;31m#ex: calculating AT content while excluding unknown bases from the calculation\u001b[0m\u001b[0;34m\u001b[0m\u001b[0;34m\u001b[0m\u001b[0m\n\u001b[0;32m----> 3\u001b[0;31m \u001b[0;32massert\u001b[0m \u001b[0mget_at_content\u001b[0m\u001b[0;34m(\u001b[0m\u001b[0;34m\"ATGCNNNN\"\u001b[0m\u001b[0;34m)\u001b[0m\u001b[0;34m==\u001b[0m\u001b[0;36m0.5\u001b[0m\u001b[0;34m\u001b[0m\u001b[0m\n\u001b[0m",
      "\u001b[0;31mAssertionError\u001b[0m: "
     ]
    }
   ],
   "source": [
    "#can test for whether a function is useful in a given situation or needs editing\n",
    "#ex: calculating AT content while excluding unknown bases from the calculation\n",
    "assert get_at_content(\"ATGCNNNN\")==0.5"
   ]
  },
  {
   "cell_type": "code",
   "execution_count": 28,
   "metadata": {},
   "outputs": [],
   "source": [
    "#to fix this, replace N characters (unknown bases) with nothing\n",
    "def get_at_content(dna,sig_figs=2):\n",
    "    dna=dna.replace('N','')\n",
    "    length=len(dna)\n",
    "    a_count=dna.upper().count('A')\n",
    "    t_count=dna.upper().count('T')\n",
    "    at_content=(a_count+t_count)/length\n",
    "    return round(at_content,sig_figs)\n",
    "\n",
    "assert get_at_content(\"ATCGNNNNNN\")==0.5"
   ]
  },
  {
   "cell_type": "code",
   "execution_count": 29,
   "metadata": {},
   "outputs": [],
   "source": [
    "#assertions can be grouped to test for correct behavior on different input types\n",
    "assert get_at_content(\"A\") == 1\n",
    "assert get_at_content(\"G\") == 0\n",
    "assert get_at_content(\"ATGC\") == 0.5\n",
    "assert get_at_content(\"AGG\") == 0.33\n",
    "assert get_at_content(\"AGG\", 1) == 0.3\n",
    "assert get_at_content(\"AGG\", 5) == 0.33333"
   ]
  },
  {
   "cell_type": "code",
   "execution_count": null,
   "metadata": {},
   "outputs": [],
   "source": []
  }
 ],
 "metadata": {
  "kernelspec": {
   "display_name": "Python 3",
   "language": "python",
   "name": "python3"
  },
  "language_info": {
   "codemirror_mode": {
    "name": "ipython",
    "version": 3
   },
   "file_extension": ".py",
   "mimetype": "text/x-python",
   "name": "python",
   "nbconvert_exporter": "python",
   "pygments_lexer": "ipython3",
   "version": "3.6.4"
  }
 },
 "nbformat": 4,
 "nbformat_minor": 2
}
